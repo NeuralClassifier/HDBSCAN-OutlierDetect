{
  "nbformat": 4,
  "nbformat_minor": 0,
  "metadata": {
    "colab": {
      "name": "Plotting Performance",
      "provenance": [],
      "authorship_tag": "ABX9TyP8gbNBFPdmTlYVieP5/9o3",
      "include_colab_link": true
    },
    "kernelspec": {
      "name": "python3",
      "display_name": "Python 3"
    },
    "language_info": {
      "name": "python"
    }
  },
  "cells": [
    {
      "cell_type": "markdown",
      "metadata": {
        "id": "view-in-github",
        "colab_type": "text"
      },
      "source": [
        "<a href=\"https://colab.research.google.com/github/NeuralClassifier/OutlierDetect/blob/main/Plotting_Performance.ipynb\" target=\"_parent\"><img src=\"https://colab.research.google.com/assets/colab-badge.svg\" alt=\"Open In Colab\"/></a>"
      ]
    },
    {
      "cell_type": "code",
      "execution_count": 1,
      "metadata": {
        "id": "I3c2t7AKaloO"
      },
      "outputs": [],
      "source": [
        "import matplotlib.pyplot as plt\n",
        "import pandas as pd\n",
        "import numpy as np\n",
        "from pandas.io.pytables import IncompatibilityWarning\n",
        "import os"
      ]
    },
    {
      "cell_type": "code",
      "source": [
        "df = pd.read_excel('/content/performance_dn_KNN_noise.xlsx')\n",
        "df.drop(['Unnamed: 0'],axis=1,inplace=True)\n",
        "df"
      ],
      "metadata": {
        "id": "hxHTT_WEbJdJ"
      },
      "execution_count": null,
      "outputs": []
    },
    {
      "cell_type": "code",
      "source": [
        "outlier_type = 'LOF'\n",
        "df = pd.read_excel('/content/performance_rodm_LOF.xlsx')\n",
        "df.drop(['Unnamed: 0'],axis=1,inplace=True)\n",
        "vary = ['Overlap_OutlierQuantity','OutlierQuantity_Dimension','Dimension_Overlap']\n",
        "backbone_path = '/content/plots_performance/'\n",
        "os.mkdir(backbone_path)\n",
        "backbone_path = '/content/plots_performance/'+outlier_type+'/'\n",
        "os.mkdir(backbone_path)\n",
        "for i in vary:\n",
        "  in_path = backbone_path+i+'/'\n",
        "  os.mkdir(in_path)\n",
        "  in_path_pan = in_path+'pan/'\n",
        "  os.mkdir(in_path_pan)\n",
        "  in_path_Adjpan = in_path+'Adjpan/'\n",
        "  os.mkdir(in_path_Adjpan)\n",
        "  if i == 'Overlap_OutlierQuantity':\n",
        "    over_list = list(df['Overlap'].unique())\n",
        "    oq_list = list(df['Outlier Quantity'].unique())\n",
        "    df_temp = df[df['Dimension']==2]\n",
        "    for ov in over_list:\n",
        "      df_temp_temp = df_temp[df_temp['Overlap']==ov]\n",
        "      for oqs in oq_list:\n",
        "        df_temp_temp_temp = df_temp_temp[df_temp_temp['Outlier Quantity']==oqs]\n",
        "        #print(df_temp_temp_temp)\n",
        "        X = df_temp_temp_temp.iloc[:,3]\n",
        "        Y_pan = df_temp_temp_temp.iloc[:,-2]\n",
        "        Y_Adjpan = df_temp_temp_temp.iloc[:,-1]\n",
        "        #print('Overlap_OutlierQuantity')\n",
        "        #print(Y_Adjpan)\n",
        "        plt.rcParams.update({'font.size': 18})\n",
        "        plt.plot(X,Y_pan, linewidth=4, c='b')\n",
        "        plt.savefig(in_path_pan+'plot_over'+str(ov)+'_oq'+str(oqs)+'_dim'+str(2)+'_'+str(outlier_type)+'_p@n.png')\n",
        "        plt.show()\n",
        "        plt.plot(X,Y_Adjpan, linewidth=4, c='b')\n",
        "        plt.savefig(in_path_Adjpan+'plot_over'+str(ov)+'_oq'+str(oqs)+'_dim'+str(2)+'_'+str(outlier_type)+'_Adjp@n.png')\n",
        "        plt.show()\n",
        "        #break\n",
        "      #break\n",
        "  \n",
        "  if i == 'OutlierQuantity_Dimension':\n",
        "    #over_list = list(df['Overlap'].unique())\n",
        "    oq_list = list(df['Outlier Quantity'].unique())\n",
        "    dm_list = list(df['Dimension'].unique())\n",
        "    df_temp = df[df['Overlap']==4]\n",
        "    for oqs in oq_list:\n",
        "      df_temp_temp = df_temp[df_temp['Outlier Quantity']==oqs]\n",
        "      for dm in dm_list:\n",
        "        df_temp_temp_temp = df_temp_temp[df_temp_temp['Dimension']==dm]\n",
        "        #print(df_temp_temp_temp)\n",
        "        X = df_temp_temp_temp.iloc[:,3]\n",
        "        Y_pan = df_temp_temp_temp.iloc[:,-2]\n",
        "        Y_Adjpan = df_temp_temp_temp.iloc[:,-1]\n",
        "        #print(Y_Adjpan)\n",
        "        plt.rcParams.update({'font.size': 18})\n",
        "        plt.plot(X,Y_pan, linewidth=4, c='b')\n",
        "        plt.savefig(in_path_pan+'plot_oq'+str(oqs)+'_dim'+str(dm)+'_over'+str(4)+'_'+str(outlier_type)+'_p@n.png')\n",
        "        plt.show()\n",
        "        plt.plot(X,Y_Adjpan, linewidth=4, c='b')\n",
        "        plt.savefig(in_path_Adjpan+'plot_oq'+str(oqs)+'_dim'+str(dm)+'_over'+str(4)+'_'+str(outlier_type)+'_Adjp@n.png')\n",
        "        plt.show()\n",
        "        #break\n",
        "      #break\n",
        "  \n",
        "  if i == 'Dimension_Overlap':\n",
        "\n",
        "    dm_list = list(df['Dimension'].unique())\n",
        "    over_list = list(df['Overlap'].unique())\n",
        "    df_temp = df[df['Outlier Quantity']==70]\n",
        "    for dm in dm_list:\n",
        "      df_temp_temp = df_temp[df_temp['Dimension']==dm]\n",
        "      for ov in over_list:\n",
        "        df_temp_temp_temp = df_temp_temp[df_temp_temp['Overlap']==ov]\n",
        "        #print(df_temp_temp_temp)\n",
        "        X = df_temp_temp_temp.iloc[:,3]\n",
        "        Y_pan = df_temp_temp_temp.iloc[:,-2]\n",
        "        Y_Adjpan = df_temp_temp_temp.iloc[:,-1]\n",
        "        #print(Y_Adjpan)\n",
        "        plt.rcParams.update({'font.size': 18})\n",
        "        plt.plot(X,Y_pan, linewidth=4, c='b')\n",
        "        plt.savefig(in_path_pan+'plot_oq'+str(70)+'_dim'+str(dm)+'_over'+str(ov)+'_'+str(outlier_type)+'_p@n.png')\n",
        "        plt.show()\n",
        "        plt.plot(X,Y_Adjpan, linewidth=4, c='b')\n",
        "        plt.savefig(in_path_Adjpan+'plot_oq'+str(70)+'_dim'+str(dm)+'_over'+str(ov)+'_'+str(outlier_type)+'_Adjp@n.png')\n",
        "        plt.show()\n",
        "        #break\n",
        "      #break\n"
      ],
      "metadata": {
        "id": "ElJLxAs1bzf_"
      },
      "execution_count": null,
      "outputs": []
    },
    {
      "cell_type": "code",
      "source": [
        "outlier_type = 'KNN'\n",
        "df = pd.read_excel('/content/performance_rodm_KNN.xlsx')\n",
        "df.drop(['Unnamed: 0'],axis=1,inplace=True)\n",
        "vary = ['Overlap_OutlierQuantity','OutlierQuantity_Dimension','Dimension_Overlap']\n",
        "backbone_path = '/content/plots_performance/'\n",
        "#os.mkdir(backbone_path)\n",
        "backbone_path = '/content/plots_performance/'+outlier_type+'/'\n",
        "os.mkdir(backbone_path)\n",
        "for i in vary:\n",
        "  in_path = backbone_path+i+'/'\n",
        "  os.mkdir(in_path)\n",
        "  in_path_pan = in_path+'pan/'\n",
        "  os.mkdir(in_path_pan)\n",
        "  in_path_Adjpan = in_path+'Adjpan/'\n",
        "  os.mkdir(in_path_Adjpan)\n",
        "  if i == 'Overlap_OutlierQuantity':\n",
        "    over_list = list(df['Overlap'].unique())\n",
        "    oq_list = list(df['Outlier Quantity'].unique())\n",
        "    df_temp = df[df['Dimension']==2]\n",
        "    for ov in over_list:\n",
        "      df_temp_temp = df_temp[df_temp['Overlap']==ov]\n",
        "      for oqs in oq_list:\n",
        "        df_temp_temp_temp = df_temp_temp[df_temp_temp['Outlier Quantity']==oqs]\n",
        "        #print(df_temp_temp_temp)\n",
        "        X = df_temp_temp_temp.iloc[:,3]\n",
        "        Y_pan = df_temp_temp_temp.iloc[:,-2]\n",
        "        Y_Adjpan = df_temp_temp_temp.iloc[:,-1]\n",
        "        #print('Overlap_OutlierQuantity')\n",
        "        #print(Y_Adjpan)\n",
        "        plt.rcParams.update({'font.size': 18})\n",
        "        plt.plot(X,Y_pan, linewidth=4, c='b')\n",
        "        plt.savefig(in_path_pan+'plot_over'+str(ov)+'_oq'+str(oqs)+'_dim'+str(2)+'_'+str(outlier_type)+'_p@n.png')\n",
        "        plt.show()\n",
        "        plt.plot(X,Y_Adjpan, linewidth=4, c='b')\n",
        "        plt.savefig(in_path_Adjpan+'plot_over'+str(ov)+'_oq'+str(oqs)+'_dim'+str(2)+'_'+str(outlier_type)+'_Adjp@n.png')\n",
        "        plt.show()\n",
        "        #break\n",
        "      #break\n",
        "  \n",
        "  if i == 'OutlierQuantity_Dimension':\n",
        "    #over_list = list(df['Overlap'].unique())\n",
        "    oq_list = list(df['Outlier Quantity'].unique())\n",
        "    dm_list = list(df['Dimension'].unique())\n",
        "    df_temp = df[df['Overlap']==4]\n",
        "    for oqs in oq_list:\n",
        "      df_temp_temp = df_temp[df_temp['Outlier Quantity']==oqs]\n",
        "      for dm in dm_list:\n",
        "        df_temp_temp_temp = df_temp_temp[df_temp_temp['Dimension']==dm]\n",
        "        #print(df_temp_temp_temp)\n",
        "        X = df_temp_temp_temp.iloc[:,3]\n",
        "        Y_pan = df_temp_temp_temp.iloc[:,-2]\n",
        "        Y_Adjpan = df_temp_temp_temp.iloc[:,-1]\n",
        "        #print(Y_Adjpan)\n",
        "        plt.rcParams.update({'font.size': 18})\n",
        "        plt.plot(X,Y_pan, linewidth=4, c='b')\n",
        "        plt.savefig(in_path_pan+'plot_oq'+str(oqs)+'_dim'+str(dm)+'_over'+str(4)+'_'+str(outlier_type)+'_p@n.png')\n",
        "        plt.show()\n",
        "        plt.plot(X,Y_Adjpan, linewidth=4, c='b')\n",
        "        plt.savefig(in_path_Adjpan+'plot_oq'+str(oqs)+'_dim'+str(dm)+'_over'+str(4)+'_'+str(outlier_type)+'_Adjp@n.png')\n",
        "        plt.show()\n",
        "        #break\n",
        "      #break\n",
        "  \n",
        "  if i == 'Dimension_Overlap':\n",
        "\n",
        "    dm_list = list(df['Dimension'].unique())\n",
        "    over_list = list(df['Overlap'].unique())\n",
        "    df_temp = df[df['Outlier Quantity']==70]\n",
        "    for dm in dm_list:\n",
        "      df_temp_temp = df_temp[df_temp['Dimension']==dm]\n",
        "      for ov in over_list:\n",
        "        df_temp_temp_temp = df_temp_temp[df_temp_temp['Overlap']==ov]\n",
        "        #print(df_temp_temp_temp)\n",
        "        X = df_temp_temp_temp.iloc[:,3]\n",
        "        Y_pan = df_temp_temp_temp.iloc[:,-2]\n",
        "        Y_Adjpan = df_temp_temp_temp.iloc[:,-1]\n",
        "        #print(Y_Adjpan)\n",
        "        plt.rcParams.update({'font.size': 18})\n",
        "        plt.plot(X,Y_pan, linewidth=4, c='b')\n",
        "        plt.savefig(in_path_pan+'plot_oq'+str(70)+'_dim'+str(dm)+'_over'+str(ov)+'_'+str(outlier_type)+'_p@n.png')\n",
        "        plt.show()\n",
        "        plt.plot(X,Y_Adjpan, linewidth=4, c='b')\n",
        "        plt.savefig(in_path_Adjpan+'plot_oq'+str(70)+'_dim'+str(dm)+'_over'+str(ov)+'_'+str(outlier_type)+'_Adjp@n.png')\n",
        "        plt.show()\n",
        "        #break\n",
        "      #break"
      ],
      "metadata": {
        "id": "PyhjCCem8FIa"
      },
      "execution_count": null,
      "outputs": []
    },
    {
      "cell_type": "code",
      "source": [
        "!zip -r /content/plots_performance.zip /content/plots_performance"
      ],
      "metadata": {
        "id": "iL6hVnVx9iJs"
      },
      "execution_count": null,
      "outputs": []
    },
    {
      "cell_type": "code",
      "source": [
        "!rm -rf /content/plots_performance"
      ],
      "metadata": {
        "id": "r_DV-oLJfX7p"
      },
      "execution_count": null,
      "outputs": []
    },
    {
      "cell_type": "code",
      "source": [
        ""
      ],
      "metadata": {
        "id": "dJvw4axrf1X9"
      },
      "execution_count": null,
      "outputs": []
    },
    {
      "cell_type": "code",
      "source": [
        ""
      ],
      "metadata": {
        "id": "o1-2XrAhElL1"
      },
      "execution_count": null,
      "outputs": []
    },
    {
      "cell_type": "code",
      "source": [
        ""
      ],
      "metadata": {
        "id": "fN3cms8lElPU"
      },
      "execution_count": null,
      "outputs": []
    },
    {
      "cell_type": "code",
      "source": [
        "df = pd.read_excel('/content/performance_dn_KNN_noise.xlsx')\n",
        "df.drop(['Unnamed: 0'],axis=1,inplace=True)\n",
        "df"
      ],
      "metadata": {
        "id": "hoRzd_MzFDz0"
      },
      "execution_count": null,
      "outputs": []
    },
    {
      "cell_type": "code",
      "source": [
        "gg= df[df['Noise']==30]\n",
        "list(gg['Dimension'].unique())"
      ],
      "metadata": {
        "id": "fi-u6fhrnegW"
      },
      "execution_count": null,
      "outputs": []
    },
    {
      "cell_type": "code",
      "source": [
        "list(df['Dimension'].unique())"
      ],
      "metadata": {
        "id": "yIHXQPJYne6i"
      },
      "execution_count": null,
      "outputs": []
    },
    {
      "cell_type": "code",
      "source": [
        "## KNN Noise\n",
        "\n",
        "outlier_type = 'KNN'\n",
        "df = pd.read_excel('/content/performance_dn_KNN_noise.xlsx')\n",
        "df.drop(['Unnamed: 0'],axis=1,inplace=True)\n",
        "vary = ['Noise_Dimension']\n",
        "backbone_path = '/content/plots_performance_noise/'\n",
        "os.mkdir(backbone_path)\n",
        "backbone_path = '/content/plots_performance_noise/'+outlier_type+'/'\n",
        "os.mkdir(backbone_path)\n",
        "for i in vary:\n",
        "  in_path = backbone_path+i+'/'\n",
        "  os.mkdir(in_path)\n",
        "  in_path_pan = in_path+'pan/'\n",
        "  os.mkdir(in_path_pan)\n",
        "  in_path_Adjpan = in_path+'Adjpan/'\n",
        "  os.mkdir(in_path_Adjpan)\n",
        "  if i == 'Noise_Dimension':\n",
        "    noise_list = list(df['Noise'].unique())\n",
        "    dim_list = list(df['Dimension'].unique())\n",
        "    df_temp = df[df['Outlier Quantity']==70]\n",
        "    df_temp = df[df['Overlap']==4]\n",
        "    for n in noise_list:\n",
        "      df_temp_temp = df_temp[df_temp['Noise']==n]\n",
        "      for d in dim_list:\n",
        "        df_temp_temp_temp = df_temp_temp[df_temp_temp['Dimension']==d]\n",
        "        print('Dimension: ',d,', Noise: ',n)\n",
        "        #print(df_temp_temp_temp)\n",
        "        X = df_temp_temp_temp.iloc[:,4]\n",
        "        Y_pan = df_temp_temp_temp.iloc[:,-2]\n",
        "        Y_Adjpan = df_temp_temp_temp.iloc[:,-1]\n",
        "        #print('Overlap_OutlierQuantity')\n",
        "        #print(Y_Adjpan)\n",
        "        plt.rcParams.update({'font.size': 18})\n",
        "        plt.plot(X,Y_pan, linewidth=4, c='b')\n",
        "        plt.savefig(in_path_pan+'plot_over'+str(4)+'_oq'+str(70)+'_dim'+str(d)+'_noise'+str(n)+'_'+str(outlier_type)+'_p@n.png')\n",
        "        plt.show()\n",
        "        plt.plot(X,Y_Adjpan, linewidth=4, c='b')\n",
        "        plt.savefig(in_path_Adjpan+'plot_over'+str(4)+'_oq'+str(70)+'_dim'+str(d)+'_noise'+str(n)+'_'+str(outlier_type)+'_Adjp@n.png')\n",
        "        plt.show()\n",
        "        #break\n",
        "      #break\n",
        "  \n",
        " "
      ],
      "metadata": {
        "id": "QfKpKFzjElUU"
      },
      "execution_count": null,
      "outputs": []
    },
    {
      "cell_type": "code",
      "source": [
        "#!rm -rf /content/plots_performance_noise/"
      ],
      "metadata": {
        "id": "Sy7pqzkinKhA"
      },
      "execution_count": 20,
      "outputs": []
    },
    {
      "cell_type": "code",
      "source": [
        "pd.set_option('display.max_rows', None)\n",
        "df_temp_temp_temp"
      ],
      "metadata": {
        "id": "rtmzErK2STVK"
      },
      "execution_count": null,
      "outputs": []
    },
    {
      "cell_type": "code",
      "source": [
        "outlier_type = 'LOF'\n",
        "df = pd.read_excel('/content/performance_dn_LOF_noise.xlsx')\n",
        "df.drop(['Unnamed: 0'],axis=1,inplace=True)\n",
        "vary = ['Noise_Dimension']\n",
        "backbone_path = '/content/plots_performance_noise/'\n",
        "#os.mkdir(backbone_path)\n",
        "backbone_path = '/content/plots_performance_noise/'+outlier_type+'/'\n",
        "os.mkdir(backbone_path)\n",
        "for i in vary:\n",
        "  in_path = backbone_path+i+'/'\n",
        "  os.mkdir(in_path)\n",
        "  in_path_pan = in_path+'pan/'\n",
        "  os.mkdir(in_path_pan)\n",
        "  in_path_Adjpan = in_path+'Adjpan/'\n",
        "  os.mkdir(in_path_Adjpan)\n",
        "  if i == 'Noise_Dimension':\n",
        "    noise_list = list(df['Noise'].unique())\n",
        "    dim_list = list(df['Dimension'].unique())\n",
        "    df_temp = df[df['Outlier Quantity']==70]\n",
        "    df_temp = df[df['Overlap']==4]\n",
        "    for n in noise_list:\n",
        "      df_temp_temp = df_temp[df_temp['Noise']==n]\n",
        "      for d in dim_list:\n",
        "        df_temp_temp_temp = df_temp_temp[df_temp_temp['Dimension']==d]\n",
        "        print('Dimension: ',d,', Noise: ',n)\n",
        "        #print(df_temp_temp_temp)\n",
        "        X = df_temp_temp_temp.iloc[:,4]\n",
        "        Y_pan = df_temp_temp_temp.iloc[:,-2]\n",
        "        Y_Adjpan = df_temp_temp_temp.iloc[:,-1]\n",
        "        #print('Overlap_OutlierQuantity')\n",
        "        #print(Y_Adjpan)\n",
        "        plt.rcParams.update({'font.size': 18})\n",
        "        plt.plot(X,Y_pan, linewidth=4, c='b')\n",
        "        plt.savefig(in_path_pan+'plot_over'+str(4)+'_oq'+str(70)+'_dim'+str(d)+'_noise'+str(n)+'_'+str(outlier_type)+'_p@n.png')\n",
        "        plt.show()\n",
        "        plt.plot(X,Y_Adjpan, linewidth=4, c='b')\n",
        "        plt.savefig(in_path_Adjpan+'plot_over'+str(4)+'_oq'+str(70)+'_dim'+str(d)+'_noise'+str(n)+'_'+str(outlier_type)+'_Adjp@n.png')\n",
        "        plt.show()\n",
        "        #break\n",
        "      #break"
      ],
      "metadata": {
        "id": "KSnNo4sARRno"
      },
      "execution_count": null,
      "outputs": []
    },
    {
      "cell_type": "code",
      "source": [
        "!zip -r /content/plots_performance_noise.zip /content/plots_performance_noise"
      ],
      "metadata": {
        "id": "0d18mfjr2y4R"
      },
      "execution_count": null,
      "outputs": []
    },
    {
      "cell_type": "code",
      "source": [
        "!rm -rf /content/plots_performance_noise/"
      ],
      "metadata": {
        "id": "vlt2ZC-qSkS5"
      },
      "execution_count": 25,
      "outputs": []
    },
    {
      "cell_type": "code",
      "source": [
        ""
      ],
      "metadata": {
        "id": "suVKhImfSlA7"
      },
      "execution_count": null,
      "outputs": []
    }
  ]
}