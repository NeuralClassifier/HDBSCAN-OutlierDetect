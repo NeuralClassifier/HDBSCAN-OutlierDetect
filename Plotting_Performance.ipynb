{
  "nbformat": 4,
  "nbformat_minor": 0,
  "metadata": {
    "colab": {
      "name": "Plotting Performance",
      "provenance": [],
      "authorship_tag": "ABX9TyO39pP0CpsbYext3XydlERX",
      "include_colab_link": true
    },
    "kernelspec": {
      "name": "python3",
      "display_name": "Python 3"
    },
    "language_info": {
      "name": "python"
    }
  },
  "cells": [
    {
      "cell_type": "markdown",
      "metadata": {
        "id": "view-in-github",
        "colab_type": "text"
      },
      "source": [
        "<a href=\"https://colab.research.google.com/github/NeuralClassifier/OutlierDetect/blob/main/Plotting_Performance.ipynb\" target=\"_parent\"><img src=\"https://colab.research.google.com/assets/colab-badge.svg\" alt=\"Open In Colab\"/></a>"
      ]
    },
    {
      "cell_type": "code",
      "execution_count": 1,
      "metadata": {
        "id": "I3c2t7AKaloO"
      },
      "outputs": [],
      "source": [
        "import matplotlib.pyplot as plt\n",
        "import pandas as pd\n",
        "import numpy as np\n",
        "from pandas.io.pytables import IncompatibilityWarning\n",
        "import os"
      ]
    },
    {
      "cell_type": "code",
      "source": [
        "df = pd.read_excel('/content/performance_dn_KNN_noise.xlsx')\n",
        "df.drop(['Unnamed: 0'],axis=1,inplace=True)\n",
        "df"
      ],
      "metadata": {
        "id": "hxHTT_WEbJdJ"
      },
      "execution_count": null,
      "outputs": []
    },
    {
      "cell_type": "code",
      "source": [
        "outlier_type = 'LOF'\n",
        "df = pd.read_excel('/content/performance_rodm_LOF.xlsx')\n",
        "df.drop(['Unnamed: 0'],axis=1,inplace=True)\n",
        "vary = ['Overlap_OutlierQuantity','OutlierQuantity_Dimension','Dimension_Overlap']\n",
        "backbone_path = '/content/plots_performance/'\n",
        "os.mkdir(backbone_path)\n",
        "backbone_path = '/content/plots_performance/'+outlier_type+'/'\n",
        "os.mkdir(backbone_path)\n",
        "for i in vary:\n",
        "  in_path = backbone_path+i+'/'\n",
        "  os.mkdir(in_path)\n",
        "  in_path_pan = in_path+'pan/'\n",
        "  os.mkdir(in_path_pan)\n",
        "  in_path_Adjpan = in_path+'Adjpan/'\n",
        "  os.mkdir(in_path_Adjpan)\n",
        "  if i == 'Overlap_OutlierQuantity':\n",
        "    over_list = list(df['Overlap'].unique())\n",
        "    oq_list = list(df['Outlier Quantity'].unique())\n",
        "    df_temp = df[df['Dimension']==2]\n",
        "    for ov in over_list:\n",
        "      df_temp_temp = df_temp[df_temp['Overlap']==ov]\n",
        "      for oqs in oq_list:\n",
        "        df_temp_temp_temp = df_temp_temp[df_temp_temp['Outlier Quantity']==oqs]\n",
        "        #print(df_temp_temp_temp)\n",
        "        X = df_temp_temp_temp.iloc[:,3]\n",
        "        Y_pan = df_temp_temp_temp.iloc[:,-2]\n",
        "        Y_Adjpan = df_temp_temp_temp.iloc[:,-1]\n",
        "        #print('Overlap_OutlierQuantity')\n",
        "        #print(Y_Adjpan)\n",
        "        plt.rcParams.update({'font.size': 18})\n",
        "        plt.plot(X,Y_pan, linewidth=4, c='b')\n",
        "        plt.savefig(in_path_pan+'plot_over'+str(ov)+'_oq'+str(oqs)+'_dim'+str(2)+'_'+str(outlier_type)+'_p@n.png')\n",
        "        plt.show()\n",
        "        plt.plot(X,Y_Adjpan, linewidth=4, c='b')\n",
        "        plt.savefig(in_path_Adjpan+'plot_over'+str(ov)+'_oq'+str(oqs)+'_dim'+str(2)+'_'+str(outlier_type)+'_Adjp@n.png')\n",
        "        plt.show()\n",
        "        #break\n",
        "      #break\n",
        "  \n",
        "  if i == 'OutlierQuantity_Dimension':\n",
        "    #over_list = list(df['Overlap'].unique())\n",
        "    oq_list = list(df['Outlier Quantity'].unique())\n",
        "    dm_list = list(df['Dimension'].unique())\n",
        "    df_temp = df[df['Overlap']==4]\n",
        "    for oqs in oq_list:\n",
        "      df_temp_temp = df_temp[df_temp['Outlier Quantity']==oqs]\n",
        "      for dm in dm_list:\n",
        "        df_temp_temp_temp = df_temp_temp[df_temp_temp['Dimension']==dm]\n",
        "        #print(df_temp_temp_temp)\n",
        "        X = df_temp_temp_temp.iloc[:,3]\n",
        "        Y_pan = df_temp_temp_temp.iloc[:,-2]\n",
        "        Y_Adjpan = df_temp_temp_temp.iloc[:,-1]\n",
        "        #print(Y_Adjpan)\n",
        "        plt.rcParams.update({'font.size': 18})\n",
        "        plt.plot(X,Y_pan, linewidth=4, c='b')\n",
        "        plt.savefig(in_path_pan+'plot_oq'+str(oqs)+'_dim'+str(dm)+'_over'+str(4)+'_'+str(outlier_type)+'_p@n.png')\n",
        "        plt.show()\n",
        "        plt.plot(X,Y_Adjpan, linewidth=4, c='b')\n",
        "        plt.savefig(in_path_Adjpan+'plot_oq'+str(oqs)+'_dim'+str(dm)+'_over'+str(4)+'_'+str(outlier_type)+'_Adjp@n.png')\n",
        "        plt.show()\n",
        "        #break\n",
        "      #break\n",
        "  \n",
        "  if i == 'Dimension_Overlap':\n",
        "\n",
        "    dm_list = list(df['Dimension'].unique())\n",
        "    over_list = list(df['Overlap'].unique())\n",
        "    df_temp = df[df['Outlier Quantity']==70]\n",
        "    for dm in dm_list:\n",
        "      df_temp_temp = df_temp[df_temp['Dimension']==dm]\n",
        "      for ov in over_list:\n",
        "        df_temp_temp_temp = df_temp_temp[df_temp_temp['Overlap']==ov]\n",
        "        #print(df_temp_temp_temp)\n",
        "        X = df_temp_temp_temp.iloc[:,3]\n",
        "        Y_pan = df_temp_temp_temp.iloc[:,-2]\n",
        "        Y_Adjpan = df_temp_temp_temp.iloc[:,-1]\n",
        "        #print(Y_Adjpan)\n",
        "        plt.rcParams.update({'font.size': 18})\n",
        "        plt.plot(X,Y_pan, linewidth=4, c='b')\n",
        "        plt.savefig(in_path_pan+'plot_oq'+str(70)+'_dim'+str(dm)+'_over'+str(ov)+'_'+str(outlier_type)+'_p@n.png')\n",
        "        plt.show()\n",
        "        plt.plot(X,Y_Adjpan, linewidth=4, c='b')\n",
        "        plt.savefig(in_path_Adjpan+'plot_oq'+str(70)+'_dim'+str(dm)+'_over'+str(ov)+'_'+str(outlier_type)+'_Adjp@n.png')\n",
        "        plt.show()\n",
        "        #break\n",
        "      #break\n"
      ],
      "metadata": {
        "id": "ElJLxAs1bzf_"
      },
      "execution_count": null,
      "outputs": []
    },
    {
      "cell_type": "code",
      "source": [
        "outlier_type = 'KNN'\n",
        "df = pd.read_excel('/content/performance_rodm_KNN.xlsx')\n",
        "df.drop(['Unnamed: 0'],axis=1,inplace=True)\n",
        "vary = ['Overlap_OutlierQuantity','OutlierQuantity_Dimension','Dimension_Overlap']\n",
        "backbone_path = '/content/plots_performance/'\n",
        "#os.mkdir(backbone_path)\n",
        "backbone_path = '/content/plots_performance/'+outlier_type+'/'\n",
        "os.mkdir(backbone_path)\n",
        "for i in vary:\n",
        "  in_path = backbone_path+i+'/'\n",
        "  os.mkdir(in_path)\n",
        "  in_path_pan = in_path+'pan/'\n",
        "  os.mkdir(in_path_pan)\n",
        "  in_path_Adjpan = in_path+'Adjpan/'\n",
        "  os.mkdir(in_path_Adjpan)\n",
        "  if i == 'Overlap_OutlierQuantity':\n",
        "    over_list = list(df['Overlap'].unique())\n",
        "    oq_list = list(df['Outlier Quantity'].unique())\n",
        "    df_temp = df[df['Dimension']==2]\n",
        "    for ov in over_list:\n",
        "      df_temp_temp = df_temp[df_temp['Overlap']==ov]\n",
        "      for oqs in oq_list:\n",
        "        df_temp_temp_temp = df_temp_temp[df_temp_temp['Outlier Quantity']==oqs]\n",
        "        #print(df_temp_temp_temp)\n",
        "        X = df_temp_temp_temp.iloc[:,3]\n",
        "        Y_pan = df_temp_temp_temp.iloc[:,-2]\n",
        "        Y_Adjpan = df_temp_temp_temp.iloc[:,-1]\n",
        "        #print('Overlap_OutlierQuantity')\n",
        "        #print(Y_Adjpan)\n",
        "        plt.rcParams.update({'font.size': 18})\n",
        "        plt.plot(X,Y_pan, linewidth=4, c='b')\n",
        "        plt.savefig(in_path_pan+'plot_over'+str(ov)+'_oq'+str(oqs)+'_dim'+str(2)+'_'+str(outlier_type)+'_p@n.png')\n",
        "        plt.show()\n",
        "        plt.plot(X,Y_Adjpan, linewidth=4, c='b')\n",
        "        plt.savefig(in_path_Adjpan+'plot_over'+str(ov)+'_oq'+str(oqs)+'_dim'+str(2)+'_'+str(outlier_type)+'_Adjp@n.png')\n",
        "        plt.show()\n",
        "        #break\n",
        "      #break\n",
        "  \n",
        "  if i == 'OutlierQuantity_Dimension':\n",
        "    #over_list = list(df['Overlap'].unique())\n",
        "    oq_list = list(df['Outlier Quantity'].unique())\n",
        "    dm_list = list(df['Dimension'].unique())\n",
        "    df_temp = df[df['Overlap']==4]\n",
        "    for oqs in oq_list:\n",
        "      df_temp_temp = df_temp[df_temp['Outlier Quantity']==oqs]\n",
        "      for dm in dm_list:\n",
        "        df_temp_temp_temp = df_temp_temp[df_temp_temp['Dimension']==dm]\n",
        "        #print(df_temp_temp_temp)\n",
        "        X = df_temp_temp_temp.iloc[:,3]\n",
        "        Y_pan = df_temp_temp_temp.iloc[:,-2]\n",
        "        Y_Adjpan = df_temp_temp_temp.iloc[:,-1]\n",
        "        #print(Y_Adjpan)\n",
        "        plt.rcParams.update({'font.size': 18})\n",
        "        plt.plot(X,Y_pan, linewidth=4, c='b')\n",
        "        plt.savefig(in_path_pan+'plot_oq'+str(oqs)+'_dim'+str(dm)+'_over'+str(4)+'_'+str(outlier_type)+'_p@n.png')\n",
        "        plt.show()\n",
        "        plt.plot(X,Y_Adjpan, linewidth=4, c='b')\n",
        "        plt.savefig(in_path_Adjpan+'plot_oq'+str(oqs)+'_dim'+str(dm)+'_over'+str(4)+'_'+str(outlier_type)+'_Adjp@n.png')\n",
        "        plt.show()\n",
        "        #break\n",
        "      #break\n",
        "  \n",
        "  if i == 'Dimension_Overlap':\n",
        "\n",
        "    dm_list = list(df['Dimension'].unique())\n",
        "    over_list = list(df['Overlap'].unique())\n",
        "    df_temp = df[df['Outlier Quantity']==70]\n",
        "    for dm in dm_list:\n",
        "      df_temp_temp = df_temp[df_temp['Dimension']==dm]\n",
        "      for ov in over_list:\n",
        "        df_temp_temp_temp = df_temp_temp[df_temp_temp['Overlap']==ov]\n",
        "        #print(df_temp_temp_temp)\n",
        "        X = df_temp_temp_temp.iloc[:,3]\n",
        "        Y_pan = df_temp_temp_temp.iloc[:,-2]\n",
        "        Y_Adjpan = df_temp_temp_temp.iloc[:,-1]\n",
        "        #print(Y_Adjpan)\n",
        "        plt.rcParams.update({'font.size': 18})\n",
        "        plt.plot(X,Y_pan, linewidth=4, c='b')\n",
        "        plt.savefig(in_path_pan+'plot_oq'+str(70)+'_dim'+str(dm)+'_over'+str(ov)+'_'+str(outlier_type)+'_p@n.png')\n",
        "        plt.show()\n",
        "        plt.plot(X,Y_Adjpan, linewidth=4, c='b')\n",
        "        plt.savefig(in_path_Adjpan+'plot_oq'+str(70)+'_dim'+str(dm)+'_over'+str(ov)+'_'+str(outlier_type)+'_Adjp@n.png')\n",
        "        plt.show()\n",
        "        #break\n",
        "      #break"
      ],
      "metadata": {
        "id": "PyhjCCem8FIa"
      },
      "execution_count": null,
      "outputs": []
    },
    {
      "cell_type": "code",
      "source": [
        "!zip -r /content/plots_performance.zip /content/plots_performance"
      ],
      "metadata": {
        "id": "iL6hVnVx9iJs"
      },
      "execution_count": null,
      "outputs": []
    },
    {
      "cell_type": "code",
      "source": [
        "!rm -rf /content/plots_performance"
      ],
      "metadata": {
        "id": "r_DV-oLJfX7p"
      },
      "execution_count": null,
      "outputs": []
    },
    {
      "cell_type": "code",
      "source": [
        ""
      ],
      "metadata": {
        "id": "dJvw4axrf1X9"
      },
      "execution_count": null,
      "outputs": []
    },
    {
      "cell_type": "code",
      "source": [
        ""
      ],
      "metadata": {
        "id": "o1-2XrAhElL1"
      },
      "execution_count": null,
      "outputs": []
    },
    {
      "cell_type": "code",
      "source": [
        ""
      ],
      "metadata": {
        "id": "fN3cms8lElPU"
      },
      "execution_count": null,
      "outputs": []
    },
    {
      "cell_type": "code",
      "source": [
        "df = pd.read_excel('/content/performance_dn_KNN_noise.xlsx')\n",
        "df.drop(['Unnamed: 0'],axis=1,inplace=True)\n",
        "df"
      ],
      "metadata": {
        "id": "hoRzd_MzFDz0"
      },
      "execution_count": null,
      "outputs": []
    },
    {
      "cell_type": "code",
      "source": [
        "gg= df[df['Noise']==30]\n",
        "list(gg['Dimension'].unique())"
      ],
      "metadata": {
        "id": "fi-u6fhrnegW"
      },
      "execution_count": null,
      "outputs": []
    },
    {
      "cell_type": "code",
      "source": [
        "list(df['Dimension'].unique())"
      ],
      "metadata": {
        "id": "yIHXQPJYne6i"
      },
      "execution_count": null,
      "outputs": []
    },
    {
      "cell_type": "code",
      "source": [
        "## KNN Noise\n",
        "\n",
        "outlier_type = 'KNN'\n",
        "df = pd.read_excel('/content/performance_dn_KNN_noise.xlsx')\n",
        "df.drop(['Unnamed: 0'],axis=1,inplace=True)\n",
        "vary = ['Noise_Dimension']\n",
        "backbone_path = '/content/plots_performance_noise/'\n",
        "os.mkdir(backbone_path)\n",
        "backbone_path = '/content/plots_performance_noise/'+outlier_type+'/'\n",
        "os.mkdir(backbone_path)\n",
        "for i in vary:\n",
        "  in_path = backbone_path+i+'/'\n",
        "  os.mkdir(in_path)\n",
        "  in_path_pan = in_path+'pan/'\n",
        "  os.mkdir(in_path_pan)\n",
        "  in_path_Adjpan = in_path+'Adjpan/'\n",
        "  os.mkdir(in_path_Adjpan)\n",
        "  if i == 'Noise_Dimension':\n",
        "    noise_list = list(df['Noise'].unique())\n",
        "    dim_list = list(df['Dimension'].unique())\n",
        "    df_temp = df[df['Outlier Quantity']==70]\n",
        "    df_temp = df[df['Overlap']==4]\n",
        "    for n in noise_list:\n",
        "      df_temp_temp = df_temp[df_temp['Noise']==n]\n",
        "      for d in dim_list:\n",
        "        df_temp_temp_temp = df_temp_temp[df_temp_temp['Dimension']==d]\n",
        "        print('Dimension: ',d,', Noise: ',n)\n",
        "        #print(df_temp_temp_temp)\n",
        "        X = df_temp_temp_temp.iloc[:,4]\n",
        "        Y_pan = df_temp_temp_temp.iloc[:,-2]\n",
        "        Y_Adjpan = df_temp_temp_temp.iloc[:,-1]\n",
        "        #print('Overlap_OutlierQuantity')\n",
        "        #print(Y_Adjpan)\n",
        "        plt.rcParams.update({'font.size': 18})\n",
        "        plt.plot(X,Y_pan, linewidth=4, c='b')\n",
        "        plt.savefig(in_path_pan+'plot_over'+str(4)+'_oq'+str(70)+'_dim'+str(d)+'_noise'+str(n)+'_'+str(outlier_type)+'_p@n.png')\n",
        "        plt.show()\n",
        "        plt.plot(X,Y_Adjpan, linewidth=4, c='b')\n",
        "        plt.savefig(in_path_Adjpan+'plot_over'+str(4)+'_oq'+str(70)+'_dim'+str(d)+'_noise'+str(n)+'_'+str(outlier_type)+'_Adjp@n.png')\n",
        "        plt.show()\n",
        "        #break\n",
        "      #break\n",
        "  \n",
        " "
      ],
      "metadata": {
        "id": "QfKpKFzjElUU"
      },
      "execution_count": null,
      "outputs": []
    },
    {
      "cell_type": "code",
      "source": [
        "#!rm -rf /content/plots_performance_noise/"
      ],
      "metadata": {
        "id": "Sy7pqzkinKhA"
      },
      "execution_count": 20,
      "outputs": []
    },
    {
      "cell_type": "code",
      "source": [
        "pd.set_option('display.max_rows', None)\n",
        "df_temp_temp_temp"
      ],
      "metadata": {
        "id": "rtmzErK2STVK"
      },
      "execution_count": null,
      "outputs": []
    },
    {
      "cell_type": "code",
      "source": [
        "outlier_type = 'LOF'\n",
        "df = pd.read_excel('/content/performance_dn_LOF_noise.xlsx')\n",
        "df.drop(['Unnamed: 0'],axis=1,inplace=True)\n",
        "vary = ['Noise_Dimension']\n",
        "backbone_path = '/content/plots_performance_noise/'\n",
        "#os.mkdir(backbone_path)\n",
        "backbone_path = '/content/plots_performance_noise/'+outlier_type+'/'\n",
        "os.mkdir(backbone_path)\n",
        "for i in vary:\n",
        "  in_path = backbone_path+i+'/'\n",
        "  os.mkdir(in_path)\n",
        "  in_path_pan = in_path+'pan/'\n",
        "  os.mkdir(in_path_pan)\n",
        "  in_path_Adjpan = in_path+'Adjpan/'\n",
        "  os.mkdir(in_path_Adjpan)\n",
        "  if i == 'Noise_Dimension':\n",
        "    noise_list = list(df['Noise'].unique())\n",
        "    dim_list = list(df['Dimension'].unique())\n",
        "    df_temp = df[df['Outlier Quantity']==70]\n",
        "    df_temp = df[df['Overlap']==4]\n",
        "    for n in noise_list:\n",
        "      df_temp_temp = df_temp[df_temp['Noise']==n]\n",
        "      for d in dim_list:\n",
        "        df_temp_temp_temp = df_temp_temp[df_temp_temp['Dimension']==d]\n",
        "        print('Dimension: ',d,', Noise: ',n)\n",
        "        #print(df_temp_temp_temp)\n",
        "        X = df_temp_temp_temp.iloc[:,4]\n",
        "        Y_pan = df_temp_temp_temp.iloc[:,-2]\n",
        "        Y_Adjpan = df_temp_temp_temp.iloc[:,-1]\n",
        "        #print('Overlap_OutlierQuantity')\n",
        "        #print(Y_Adjpan)\n",
        "        plt.rcParams.update({'font.size': 18})\n",
        "        plt.plot(X,Y_pan, linewidth=4, c='b')\n",
        "        plt.savefig(in_path_pan+'plot_over'+str(4)+'_oq'+str(70)+'_dim'+str(d)+'_noise'+str(n)+'_'+str(outlier_type)+'_p@n.png')\n",
        "        plt.show()\n",
        "        plt.plot(X,Y_Adjpan, linewidth=4, c='b')\n",
        "        plt.savefig(in_path_Adjpan+'plot_over'+str(4)+'_oq'+str(70)+'_dim'+str(d)+'_noise'+str(n)+'_'+str(outlier_type)+'_Adjp@n.png')\n",
        "        plt.show()\n",
        "        #break\n",
        "      #break"
      ],
      "metadata": {
        "id": "KSnNo4sARRno"
      },
      "execution_count": null,
      "outputs": []
    },
    {
      "cell_type": "code",
      "source": [
        "!zip -r /content/plots_performance_noise.zip /content/plots_performance_noise"
      ],
      "metadata": {
        "id": "0d18mfjr2y4R"
      },
      "execution_count": null,
      "outputs": []
    },
    {
      "cell_type": "code",
      "source": [
        "!rm -rf /content/plots_performance_noise/"
      ],
      "metadata": {
        "id": "vlt2ZC-qSkS5"
      },
      "execution_count": 25,
      "outputs": []
    },
    {
      "cell_type": "code",
      "source": [
        ""
      ],
      "metadata": {
        "id": "suVKhImfSlA7"
      },
      "execution_count": null,
      "outputs": []
    },
    {
      "cell_type": "code",
      "source": [
        ""
      ],
      "metadata": {
        "id": "zUA9eT194Ksw"
      },
      "execution_count": null,
      "outputs": []
    },
    {
      "cell_type": "code",
      "source": [
        "outlier_type = 'LOF'\n",
        "df = pd.read_excel('/content/performance_dn_LOF_noise.xlsx')\n",
        "df.drop(['Unnamed: 0'],axis=1,inplace=True)\n",
        "df"
      ],
      "metadata": {
        "id": "Fmr_-2Ym4Kv5",
        "outputId": "d4f28ff4-5d69-4c6a-cee4-5b96d763bf2e",
        "colab": {
          "base_uri": "https://localhost:8080/",
          "height": 424
        }
      },
      "execution_count": 30,
      "outputs": [
        {
          "output_type": "execute_result",
          "data": {
            "text/html": [
              "\n",
              "  <div id=\"df-4030e98f-6423-43f7-8e42-3379041f1850\">\n",
              "    <div class=\"colab-df-container\">\n",
              "      <div>\n",
              "<style scoped>\n",
              "    .dataframe tbody tr th:only-of-type {\n",
              "        vertical-align: middle;\n",
              "    }\n",
              "\n",
              "    .dataframe tbody tr th {\n",
              "        vertical-align: top;\n",
              "    }\n",
              "\n",
              "    .dataframe thead th {\n",
              "        text-align: right;\n",
              "    }\n",
              "</style>\n",
              "<table border=\"1\" class=\"dataframe\">\n",
              "  <thead>\n",
              "    <tr style=\"text-align: right;\">\n",
              "      <th></th>\n",
              "      <th>Outlier Quantity</th>\n",
              "      <th>Overlap</th>\n",
              "      <th>Dimension</th>\n",
              "      <th>Noise</th>\n",
              "      <th>mpts</th>\n",
              "      <th>N_out</th>\n",
              "      <th>N_in</th>\n",
              "      <th>TP</th>\n",
              "      <th>FP</th>\n",
              "      <th>TN</th>\n",
              "      <th>FN</th>\n",
              "      <th>P@n</th>\n",
              "      <th>Adjusted P@n</th>\n",
              "    </tr>\n",
              "  </thead>\n",
              "  <tbody>\n",
              "    <tr>\n",
              "      <th>0</th>\n",
              "      <td>70</td>\n",
              "      <td>4</td>\n",
              "      <td>2</td>\n",
              "      <td>20</td>\n",
              "      <td>2</td>\n",
              "      <td>7</td>\n",
              "      <td>259</td>\n",
              "      <td>1</td>\n",
              "      <td>20</td>\n",
              "      <td>233</td>\n",
              "      <td>6</td>\n",
              "      <td>0.142857</td>\n",
              "      <td>0.119142</td>\n",
              "    </tr>\n",
              "    <tr>\n",
              "      <th>1</th>\n",
              "      <td>70</td>\n",
              "      <td>4</td>\n",
              "      <td>2</td>\n",
              "      <td>20</td>\n",
              "      <td>3</td>\n",
              "      <td>7</td>\n",
              "      <td>259</td>\n",
              "      <td>0</td>\n",
              "      <td>21</td>\n",
              "      <td>232</td>\n",
              "      <td>7</td>\n",
              "      <td>0.000000</td>\n",
              "      <td>-0.027668</td>\n",
              "    </tr>\n",
              "    <tr>\n",
              "      <th>2</th>\n",
              "      <td>70</td>\n",
              "      <td>4</td>\n",
              "      <td>2</td>\n",
              "      <td>20</td>\n",
              "      <td>4</td>\n",
              "      <td>7</td>\n",
              "      <td>259</td>\n",
              "      <td>2</td>\n",
              "      <td>19</td>\n",
              "      <td>234</td>\n",
              "      <td>5</td>\n",
              "      <td>0.285714</td>\n",
              "      <td>0.265951</td>\n",
              "    </tr>\n",
              "    <tr>\n",
              "      <th>3</th>\n",
              "      <td>70</td>\n",
              "      <td>4</td>\n",
              "      <td>2</td>\n",
              "      <td>20</td>\n",
              "      <td>5</td>\n",
              "      <td>7</td>\n",
              "      <td>259</td>\n",
              "      <td>4</td>\n",
              "      <td>17</td>\n",
              "      <td>236</td>\n",
              "      <td>3</td>\n",
              "      <td>0.571429</td>\n",
              "      <td>0.559571</td>\n",
              "    </tr>\n",
              "    <tr>\n",
              "      <th>4</th>\n",
              "      <td>70</td>\n",
              "      <td>4</td>\n",
              "      <td>2</td>\n",
              "      <td>20</td>\n",
              "      <td>6</td>\n",
              "      <td>7</td>\n",
              "      <td>259</td>\n",
              "      <td>4</td>\n",
              "      <td>17</td>\n",
              "      <td>236</td>\n",
              "      <td>3</td>\n",
              "      <td>0.571429</td>\n",
              "      <td>0.559571</td>\n",
              "    </tr>\n",
              "    <tr>\n",
              "      <th>...</th>\n",
              "      <td>...</td>\n",
              "      <td>...</td>\n",
              "      <td>...</td>\n",
              "      <td>...</td>\n",
              "      <td>...</td>\n",
              "      <td>...</td>\n",
              "      <td>...</td>\n",
              "      <td>...</td>\n",
              "      <td>...</td>\n",
              "      <td>...</td>\n",
              "      <td>...</td>\n",
              "      <td>...</td>\n",
              "      <td>...</td>\n",
              "    </tr>\n",
              "    <tr>\n",
              "      <th>6187</th>\n",
              "      <td>70</td>\n",
              "      <td>4</td>\n",
              "      <td>100</td>\n",
              "      <td>50</td>\n",
              "      <td>255</td>\n",
              "      <td>8</td>\n",
              "      <td>259</td>\n",
              "      <td>0</td>\n",
              "      <td>21</td>\n",
              "      <td>231</td>\n",
              "      <td>8</td>\n",
              "      <td>0.000000</td>\n",
              "      <td>-0.031746</td>\n",
              "    </tr>\n",
              "    <tr>\n",
              "      <th>6188</th>\n",
              "      <td>70</td>\n",
              "      <td>4</td>\n",
              "      <td>100</td>\n",
              "      <td>50</td>\n",
              "      <td>256</td>\n",
              "      <td>8</td>\n",
              "      <td>259</td>\n",
              "      <td>0</td>\n",
              "      <td>21</td>\n",
              "      <td>231</td>\n",
              "      <td>8</td>\n",
              "      <td>0.000000</td>\n",
              "      <td>-0.031746</td>\n",
              "    </tr>\n",
              "    <tr>\n",
              "      <th>6189</th>\n",
              "      <td>70</td>\n",
              "      <td>4</td>\n",
              "      <td>100</td>\n",
              "      <td>50</td>\n",
              "      <td>257</td>\n",
              "      <td>8</td>\n",
              "      <td>259</td>\n",
              "      <td>0</td>\n",
              "      <td>21</td>\n",
              "      <td>231</td>\n",
              "      <td>8</td>\n",
              "      <td>0.000000</td>\n",
              "      <td>-0.031746</td>\n",
              "    </tr>\n",
              "    <tr>\n",
              "      <th>6190</th>\n",
              "      <td>70</td>\n",
              "      <td>4</td>\n",
              "      <td>100</td>\n",
              "      <td>50</td>\n",
              "      <td>258</td>\n",
              "      <td>8</td>\n",
              "      <td>259</td>\n",
              "      <td>0</td>\n",
              "      <td>21</td>\n",
              "      <td>231</td>\n",
              "      <td>8</td>\n",
              "      <td>0.000000</td>\n",
              "      <td>-0.031746</td>\n",
              "    </tr>\n",
              "    <tr>\n",
              "      <th>6191</th>\n",
              "      <td>70</td>\n",
              "      <td>4</td>\n",
              "      <td>100</td>\n",
              "      <td>50</td>\n",
              "      <td>259</td>\n",
              "      <td>8</td>\n",
              "      <td>259</td>\n",
              "      <td>0</td>\n",
              "      <td>21</td>\n",
              "      <td>231</td>\n",
              "      <td>8</td>\n",
              "      <td>0.000000</td>\n",
              "      <td>-0.031746</td>\n",
              "    </tr>\n",
              "  </tbody>\n",
              "</table>\n",
              "<p>6192 rows × 13 columns</p>\n",
              "</div>\n",
              "      <button class=\"colab-df-convert\" onclick=\"convertToInteractive('df-4030e98f-6423-43f7-8e42-3379041f1850')\"\n",
              "              title=\"Convert this dataframe to an interactive table.\"\n",
              "              style=\"display:none;\">\n",
              "        \n",
              "  <svg xmlns=\"http://www.w3.org/2000/svg\" height=\"24px\"viewBox=\"0 0 24 24\"\n",
              "       width=\"24px\">\n",
              "    <path d=\"M0 0h24v24H0V0z\" fill=\"none\"/>\n",
              "    <path d=\"M18.56 5.44l.94 2.06.94-2.06 2.06-.94-2.06-.94-.94-2.06-.94 2.06-2.06.94zm-11 1L8.5 8.5l.94-2.06 2.06-.94-2.06-.94L8.5 2.5l-.94 2.06-2.06.94zm10 10l.94 2.06.94-2.06 2.06-.94-2.06-.94-.94-2.06-.94 2.06-2.06.94z\"/><path d=\"M17.41 7.96l-1.37-1.37c-.4-.4-.92-.59-1.43-.59-.52 0-1.04.2-1.43.59L10.3 9.45l-7.72 7.72c-.78.78-.78 2.05 0 2.83L4 21.41c.39.39.9.59 1.41.59.51 0 1.02-.2 1.41-.59l7.78-7.78 2.81-2.81c.8-.78.8-2.07 0-2.86zM5.41 20L4 18.59l7.72-7.72 1.47 1.35L5.41 20z\"/>\n",
              "  </svg>\n",
              "      </button>\n",
              "      \n",
              "  <style>\n",
              "    .colab-df-container {\n",
              "      display:flex;\n",
              "      flex-wrap:wrap;\n",
              "      gap: 12px;\n",
              "    }\n",
              "\n",
              "    .colab-df-convert {\n",
              "      background-color: #E8F0FE;\n",
              "      border: none;\n",
              "      border-radius: 50%;\n",
              "      cursor: pointer;\n",
              "      display: none;\n",
              "      fill: #1967D2;\n",
              "      height: 32px;\n",
              "      padding: 0 0 0 0;\n",
              "      width: 32px;\n",
              "    }\n",
              "\n",
              "    .colab-df-convert:hover {\n",
              "      background-color: #E2EBFA;\n",
              "      box-shadow: 0px 1px 2px rgba(60, 64, 67, 0.3), 0px 1px 3px 1px rgba(60, 64, 67, 0.15);\n",
              "      fill: #174EA6;\n",
              "    }\n",
              "\n",
              "    [theme=dark] .colab-df-convert {\n",
              "      background-color: #3B4455;\n",
              "      fill: #D2E3FC;\n",
              "    }\n",
              "\n",
              "    [theme=dark] .colab-df-convert:hover {\n",
              "      background-color: #434B5C;\n",
              "      box-shadow: 0px 1px 3px 1px rgba(0, 0, 0, 0.15);\n",
              "      filter: drop-shadow(0px 1px 2px rgba(0, 0, 0, 0.3));\n",
              "      fill: #FFFFFF;\n",
              "    }\n",
              "  </style>\n",
              "\n",
              "      <script>\n",
              "        const buttonEl =\n",
              "          document.querySelector('#df-4030e98f-6423-43f7-8e42-3379041f1850 button.colab-df-convert');\n",
              "        buttonEl.style.display =\n",
              "          google.colab.kernel.accessAllowed ? 'block' : 'none';\n",
              "\n",
              "        async function convertToInteractive(key) {\n",
              "          const element = document.querySelector('#df-4030e98f-6423-43f7-8e42-3379041f1850');\n",
              "          const dataTable =\n",
              "            await google.colab.kernel.invokeFunction('convertToInteractive',\n",
              "                                                     [key], {});\n",
              "          if (!dataTable) return;\n",
              "\n",
              "          const docLinkHtml = 'Like what you see? Visit the ' +\n",
              "            '<a target=\"_blank\" href=https://colab.research.google.com/notebooks/data_table.ipynb>data table notebook</a>'\n",
              "            + ' to learn more about interactive tables.';\n",
              "          element.innerHTML = '';\n",
              "          dataTable['output_type'] = 'display_data';\n",
              "          await google.colab.output.renderOutput(dataTable, element);\n",
              "          const docLink = document.createElement('div');\n",
              "          docLink.innerHTML = docLinkHtml;\n",
              "          element.appendChild(docLink);\n",
              "        }\n",
              "      </script>\n",
              "    </div>\n",
              "  </div>\n",
              "  "
            ],
            "text/plain": [
              "      Outlier Quantity  Overlap  Dimension  ...  FN       P@n  Adjusted P@n\n",
              "0                   70        4          2  ...   6  0.142857      0.119142\n",
              "1                   70        4          2  ...   7  0.000000     -0.027668\n",
              "2                   70        4          2  ...   5  0.285714      0.265951\n",
              "3                   70        4          2  ...   3  0.571429      0.559571\n",
              "4                   70        4          2  ...   3  0.571429      0.559571\n",
              "...                ...      ...        ...  ...  ..       ...           ...\n",
              "6187                70        4        100  ...   8  0.000000     -0.031746\n",
              "6188                70        4        100  ...   8  0.000000     -0.031746\n",
              "6189                70        4        100  ...   8  0.000000     -0.031746\n",
              "6190                70        4        100  ...   8  0.000000     -0.031746\n",
              "6191                70        4        100  ...   8  0.000000     -0.031746\n",
              "\n",
              "[6192 rows x 13 columns]"
            ]
          },
          "metadata": {},
          "execution_count": 30
        }
      ]
    },
    {
      "cell_type": "code",
      "source": [
        "o = 4\n",
        "oq = 70\n",
        "\n",
        "outlier_type = 'LOF'\n",
        "\n",
        "backbone_path = '/content/Plot_TPR/'\n",
        "os.mkdir(backbone_path)\n",
        "backbone_path_dmcnst = backbone_path + 'DimConst/'\n",
        "os.mkdir(backbone_path_dmcnst)\n",
        "backbone_path_dmcnst_LOF = backbone_path_dmcnst +outlier_type+ '/'\n",
        "os.mkdir(backbone_path_dmcnst_LOF)\n",
        "\n",
        "df = pd.read_excel('/content/performance_rodm_LOF.xlsx')\n",
        "df.drop(['Unnamed: 0'],axis=1,inplace=True)\n",
        "df_temp = df[df['Overlap']==o]\n",
        "df_temp.reset_index(drop=True, inplace=True)\n",
        "df_temp = df_temp[df_temp['Outlier Quantity']==oq]\n",
        "df_temp.reset_index(drop=True, inplace=True)\n",
        "dim = list(df['Dimension'].unique())\n",
        "for d in dim:\n",
        "  df_temp_temp = df_temp[df_temp['Dimension']==d]\n",
        "  df_temp_temp.reset_index(drop=True, inplace=True)\n",
        "  mpts_list = list(df_temp_temp['mpts'].unique())\n",
        "  tpr_lst = []\n",
        "  for mpts in mpts_list:\n",
        "    df_temp_temp_temp = df_temp_temp[df_temp_temp['mpts']==mpts] \n",
        "    df_temp_temp_temp.reset_index(drop=True, inplace=True)\n",
        "    #for i in range(len(df_temp_temp_temp)):\n",
        "    #print(df_temp_temp_temp)\n",
        "    tpr_lst.append(float(df_temp_temp_temp['TP'][0]/(df_temp_temp_temp['TP'][0]+df_temp_temp_temp['FN'][0])))\n",
        "  print('LOF Dimension: ',d)\n",
        "  X = np.array(df_temp_temp['mpts'])\n",
        "  Y_tpr = np.array(tpr_lst)\n",
        "  plt.rcParams.update({'font.size': 18})\n",
        "  plt.plot(X,Y_tpr, linewidth=4, c='b')\n",
        "  plt.savefig(backbone_path_dmcnst_LOF+'plot_over'+str(4)+'_oq'+str(70)+'_dim'+str(d)+'_'+str(outlier_type)+'_tpr.png')\n",
        "  plt.show()\n",
        "\n",
        "\n",
        "\n",
        "o = 4\n",
        "oq = 70\n",
        "\n",
        "outlier_type = 'KNN'\n",
        "\n",
        "backbone_path_dmcnst_KNN = backbone_path_dmcnst +outlier_type+ '/'\n",
        "os.mkdir(backbone_path_dmcnst_KNN)\n",
        "\n",
        "df = pd.read_excel('/content/performance_rodm_KNN.xlsx')\n",
        "df.drop(['Unnamed: 0'],axis=1,inplace=True)\n",
        "df_temp = df[df['Overlap']==o]\n",
        "df_temp.reset_index(drop=True, inplace=True)\n",
        "df_temp = df_temp[df_temp['Outlier Quantity']==oq]\n",
        "df_temp.reset_index(drop=True, inplace=True)\n",
        "dim = list(df['Dimension'].unique())\n",
        "for d in dim:\n",
        "  df_temp_temp = df_temp[df_temp['Dimension']==d]\n",
        "  df_temp_temp.reset_index(drop=True, inplace=True)\n",
        "  mpts_list = list(df_temp_temp['mpts'].unique())\n",
        "  tpr_lst = []\n",
        "  for mpts in mpts_list:\n",
        "    df_temp_temp_temp = df_temp_temp[df_temp_temp['mpts']==mpts] \n",
        "    df_temp_temp_temp.reset_index(drop=True, inplace=True)\n",
        "    #for i in range(len(df_temp_temp_temp)):\n",
        "    #print(df_temp_temp_temp)\n",
        "    tpr_lst.append(float(df_temp_temp_temp['TP'][0]/(df_temp_temp_temp['TP'][0]+df_temp_temp_temp['FN'][0])))\n",
        "  print('KNN Dimension: ',d)\n",
        "  X = np.array(df_temp_temp['mpts'])\n",
        "  Y_tpr = np.array(tpr_lst)\n",
        "  plt.rcParams.update({'font.size': 18})\n",
        "  plt.plot(X,Y_tpr, linewidth=4, c='b')\n",
        "  plt.savefig(backbone_path_dmcnst_KNN+'plot_over'+str(4)+'_oq'+str(70)+'_dim'+str(d)+'_'+str(outlier_type)+'_tpr.png')\n",
        "  plt.show()\n",
        "\n",
        "\n",
        "\n",
        "\n",
        "\n",
        "\n",
        "\n",
        "o = 4\n",
        "oq = 70\n",
        "d = 2\n",
        "\n",
        "outlier_type = 'LOF_noise'\n",
        "\n",
        "backbone_path_noisecnst = backbone_path + 'NoiseConst/'\n",
        "os.mkdir(backbone_path_noisecnst)\n",
        "backbone_path_noisecnst_LOF_noise = backbone_path_noisecnst +outlier_type+ '/'\n",
        "os.mkdir(backbone_path_noisecnst_LOF_noise)\n",
        "\n",
        "df = pd.read_excel('/content/performance_dn_LOF_noise.xlsx')\n",
        "df.drop(['Unnamed: 0'],axis=1,inplace=True)\n",
        "df_temp = df[df['Overlap']==o]\n",
        "df_temp.reset_index(drop=True, inplace=True)\n",
        "df_temp = df_temp[df_temp['Outlier Quantity']==oq]\n",
        "df_temp.reset_index(drop=True, inplace=True)\n",
        "df_temp = df_temp[df_temp['Dimension']==d]\n",
        "df_temp.reset_index(drop=True, inplace=True)\n",
        "noise = list(df['Noise'].unique())\n",
        "for n in noise:\n",
        "  df_temp_temp = df_temp[df_temp['Noise']==n]\n",
        "  df_temp_temp.reset_index(drop=True, inplace=True)\n",
        "  mpts_list = list(df_temp_temp['mpts'].unique())\n",
        "  tpr_lst = []\n",
        "  for mpts in mpts_list:\n",
        "    df_temp_temp_temp = df_temp_temp[df_temp_temp['mpts']==mpts] \n",
        "    df_temp_temp_temp.reset_index(drop=True, inplace=True)\n",
        "    #for i in range(len(df_temp_temp_temp)):\n",
        "    #print(df_temp_temp_temp)\n",
        "    tpr_lst.append(float(df_temp_temp_temp['TP'][0]/(df_temp_temp_temp['TP'][0]+df_temp_temp_temp['FN'][0])))\n",
        "  print('LOF Noise: ',n)\n",
        "  X = np.array(df_temp_temp['mpts'])\n",
        "  Y_tpr = np.array(tpr_lst)\n",
        "  plt.rcParams.update({'font.size': 18})\n",
        "  plt.plot(X,Y_tpr, linewidth=4, c='b')\n",
        "  plt.savefig(backbone_path_dmcnst_LOF+'plot_over'+str(4)+'_oq'+str(70)+'_dim'+str(d)+'_noise'+str(n)+'_'+str(outlier_type)+'_tpr.png')\n",
        "  plt.show()\n",
        "\n",
        "\n",
        "\n",
        "o = 4\n",
        "oq = 70\n",
        "d = 2\n",
        "\n",
        "outlier_type = 'KNN_noise'\n",
        "\n",
        "#backbone_path_noisecnst = backbone_path + 'NoiseConst/'\n",
        "#os.mkdir(backbone_path_noisecnst)\n",
        "backbone_path_noisecnst_KNN_noise = backbone_path_noisecnst +outlier_type+ '/'\n",
        "os.mkdir(backbone_path_noisecnst_KNN_noise)\n",
        "\n",
        "df = pd.read_excel('/content/performance_dn_KNN_noise.xlsx')\n",
        "df.drop(['Unnamed: 0'],axis=1,inplace=True)\n",
        "df_temp = df[df['Overlap']==o]\n",
        "df_temp.reset_index(drop=True, inplace=True)\n",
        "df_temp = df_temp[df_temp['Outlier Quantity']==oq]\n",
        "df_temp.reset_index(drop=True, inplace=True)\n",
        "df_temp = df_temp[df_temp['Dimension']==d]\n",
        "df_temp.reset_index(drop=True, inplace=True)\n",
        "noise = list(df['Noise'].unique())\n",
        "for n in noise:\n",
        "  df_temp_temp = df_temp[df_temp['Noise']==n]\n",
        "  df_temp_temp.reset_index(drop=True, inplace=True)\n",
        "  mpts_list = list(df_temp_temp['mpts'].unique())\n",
        "  tpr_lst = []\n",
        "  for mpts in mpts_list:\n",
        "    df_temp_temp_temp = df_temp_temp[df_temp_temp['mpts']==mpts] \n",
        "    df_temp_temp_temp.reset_index(drop=True, inplace=True)\n",
        "    #for i in range(len(df_temp_temp_temp)):\n",
        "    #print(df_temp_temp_temp)\n",
        "    tpr_lst.append(float(df_temp_temp_temp['TP'][0]/(df_temp_temp_temp['TP'][0]+df_temp_temp_temp['FN'][0])))\n",
        "  print('KNN Noise: ',n)\n",
        "  X = np.array(df_temp_temp['mpts'])\n",
        "  Y_tpr = np.array(tpr_lst)\n",
        "  plt.rcParams.update({'font.size': 18})\n",
        "  plt.plot(X,Y_tpr, linewidth=4, c='b')\n",
        "  plt.savefig(backbone_path_noisecnst_KNN_noise+'plot_over'+str(4)+'_oq'+str(70)+'_dim'+str(d)+'_noise'+str(n)+'_'+str(outlier_type)+'_tpr.png')\n",
        "  plt.show()"
      ],
      "metadata": {
        "id": "91mBi5X_4QPZ",
        "outputId": "19ad7fa0-b6bd-488f-f0cb-8e8285293122",
        "colab": {
          "base_uri": "https://localhost:8080/",
          "height": 1000
        }
      },
      "execution_count": 70,
      "outputs": [
        {
          "output_type": "stream",
          "name": "stdout",
          "text": [
            "LOF Dimension:  2\n"
          ]
        },
        {
          "output_type": "display_data",
          "data": {
            "image/png": "[encoded data removed]",
            "text/plain": [
              "<Figure size 432x288 with 1 Axes>"
            ]
          },
          "metadata": {
            "needs_background": "light"
          }
        },
        {
          "output_type": "stream",
          "name": "stdout",
          "text": [
            "LOF Dimension:  10\n"
          ]
        },
        {
          "output_type": "display_data",
          "data": {
            "image/png": "[encoded data removed]",
            "text/plain": [
              "<Figure size 432x288 with 1 Axes>"
            ]
          },
          "metadata": {
            "needs_background": "light"
          }
        },
        {
          "output_type": "stream",
          "name": "stdout",
          "text": [
            "LOF Dimension:  20\n"
          ]
        },
        {
          "output_type": "display_data",
          "data": {
            "image/png": "[encoded data removed]",
            "text/plain": [
              "<Figure size 432x288 with 1 Axes>"
            ]
          },
          "metadata": {
            "needs_background": "light"
          }
        },
        {
          "output_type": "stream",
          "name": "stdout",
          "text": [
            "LOF Dimension:  40\n"
          ]
        },
        {
          "output_type": "display_data",
          "data": {
            "image/png": "[encoded data removed]",
            "text/plain": [
              "<Figure size 432x288 with 1 Axes>"
            ]
          },
          "metadata": {
            "needs_background": "light"
          }
        },
        {
          "output_type": "stream",
          "name": "stdout",
          "text": [
            "LOF Dimension:  80\n"
          ]
        },
        {
          "output_type": "display_data",
          "data": {
            "image/png": "[encoded data removed]",
            "text/plain": [
              "<Figure size 432x288 with 1 Axes>"
            ]
          },
          "metadata": {
            "needs_background": "light"
          }
        },
        {
          "output_type": "stream",
          "name": "stdout",
          "text": [
            "LOF Dimension:  100\n"
          ]
        },
        {
          "output_type": "display_data",
          "data": {
            "image/png": "[encoded data removed]",
            "text/plain": [
              "<Figure size 432x288 with 1 Axes>"
            ]
          },
          "metadata": {
            "needs_background": "light"
          }
        },
        {
          "output_type": "stream",
          "name": "stdout",
          "text": [
            "KNN Dimension:  2\n"
          ]
        },
        {
          "output_type": "display_data",
          "data": {
            "image/png": "[encoded data removed]",
            "text/plain": [
              "<Figure size 432x288 with 1 Axes>"
            ]
          },
          "metadata": {
            "needs_background": "light"
          }
        },
        {
          "output_type": "stream",
          "name": "stdout",
          "text": [
            "KNN Dimension:  10\n"
          ]
        },
        {
          "output_type": "display_data",
          "data": {
            "image/png": "[encoded data removed]",
            "text/plain": [
              "<Figure size 432x288 with 1 Axes>"
            ]
          },
          "metadata": {
            "needs_background": "light"
          }
        },
        {
          "output_type": "stream",
          "name": "stdout",
          "text": [
            "KNN Dimension:  20\n"
          ]
        },
        {
          "output_type": "display_data",
          "data": {
            "image/png": "[encoded data removed]",
            "text/plain": [
              "<Figure size 432x288 with 1 Axes>"
            ]
          },
          "metadata": {
            "needs_background": "light"
          }
        },
        {
          "output_type": "stream",
          "name": "stdout",
          "text": [
            "KNN Dimension:  40\n"
          ]
        },
        {
          "output_type": "display_data",
          "data": {
            "image/png": "[encoded data removed]",
            "text/plain": [
              "<Figure size 432x288 with 1 Axes>"
            ]
          },
          "metadata": {
            "needs_background": "light"
          }
        },
        {
          "output_type": "stream",
          "name": "stdout",
          "text": [
            "KNN Dimension:  80\n"
          ]
        },
        {
          "output_type": "display_data",
          "data": {
            "image/png": "[encoded data removed]",
            "text/plain": [
              "<Figure size 432x288 with 1 Axes>"
            ]
          },
          "metadata": {
            "needs_background": "light"
          }
        },
        {
          "output_type": "stream",
          "name": "stdout",
          "text": [
            "KNN Dimension:  100\n"
          ]
        },
        {
          "output_type": "display_data",
          "data": {
            "image/png": "[encoded data removed]",
            "text/plain": [
              "<Figure size 432x288 with 1 Axes>"
            ]
          },
          "metadata": {
            "needs_background": "light"
          }
        },
        {
          "output_type": "stream",
          "name": "stdout",
          "text": [
            "LOF Noise:  20\n"
          ]
        },
        {
          "output_type": "display_data",
          "data": {
            "image/png": "[encoded data removed]",
            "text/plain": [
              "<Figure size 432x288 with 1 Axes>"
            ]
          },
          "metadata": {
            "needs_background": "light"
          }
        },
        {
          "output_type": "stream",
          "name": "stdout",
          "text": [
            "LOF Noise:  30\n"
          ]
        },
        {
          "output_type": "display_data",
          "data": {
            "image/png": "[encoded data removed]",
            "text/plain": [
              "<Figure size 432x288 with 1 Axes>"
            ]
          },
          "metadata": {
            "needs_background": "light"
          }
        },
        {
          "output_type": "stream",
          "name": "stdout",
          "text": [
            "LOF Noise:  40\n"
          ]
        },
        {
          "output_type": "display_data",
          "data": {
            "image/png": "[encoded data removed]",
            "text/plain": [
              "<Figure size 432x288 with 1 Axes>"
            ]
          },
          "metadata": {
            "needs_background": "light"
          }
        },
        {
          "output_type": "stream",
          "name": "stdout",
          "text": [
            "LOF Noise:  50\n"
          ]
        },
        {
          "output_type": "display_data",
          "data": {
            "image/png": "[encoded data removed]",
            "text/plain": [
              "<Figure size 432x288 with 1 Axes>"
            ]
          },
          "metadata": {
            "needs_background": "light"
          }
        },
        {
          "output_type": "stream",
          "name": "stdout",
          "text": [
            "KNN Noise:  20\n"
          ]
        },
        {
          "output_type": "display_data",
          "data": {
            "image/png": "[encoded data removed]",
            "text/plain": [
              "<Figure size 432x288 with 1 Axes>"
            ]
          },
          "metadata": {
            "needs_background": "light"
          }
        },
        {
          "output_type": "stream",
          "name": "stdout",
          "text": [
            "KNN Noise:  30\n"
          ]
        },
        {
          "output_type": "display_data",
          "data": {
            "image/png": "[encoded data removed]",
            "text/plain": [
              "<Figure size 432x288 with 1 Axes>"
            ]
          },
          "metadata": {
            "needs_background": "light"
          }
        },
        {
          "output_type": "stream",
          "name": "stdout",
          "text": [
            "KNN Noise:  40\n"
          ]
        },
        {
          "output_type": "display_data",
          "data": {
            "image/png": "[encoded data removed]",
            "text/plain": [
              "<Figure size 432x288 with 1 Axes>"
            ]
          },
          "metadata": {
            "needs_background": "light"
          }
        },
        {
          "output_type": "stream",
          "name": "stdout",
          "text": [
            "KNN Noise:  50\n"
          ]
        },
        {
          "output_type": "display_data",
          "data": {
            "image/png": "[encoded data removed]",
            "text/plain": [
              "<Figure size 432x288 with 1 Axes>"
            ]
          },
          "metadata": {
            "needs_background": "light"
          }
        }
      ]
    },
    {
      "cell_type": "code",
      "source": [
        "!zip -r /content/Plot_TPR.zip /content/Plot_TPR"
      ],
      "metadata": {
        "id": "cyR2_pgyXMqv",
        "outputId": "dfb9c06b-d971-447e-ba35-159cdbef48f1",
        "colab": {
          "base_uri": "https://localhost:8080/"
        }
      },
      "execution_count": 71,
      "outputs": [
        {
          "output_type": "stream",
          "name": "stdout",
          "text": [
            "  adding: content/Plot_TPR/ (stored 0%)\n",
            "  adding: content/Plot_TPR/DimConst/ (stored 0%)\n",
            "  adding: content/Plot_TPR/DimConst/KNN/ (stored 0%)\n",
            "  adding: content/Plot_TPR/DimConst/KNN/plot_over4_oq70_dim100_KNN_tpr.png (deflated 7%)\n",
            "  adding: content/Plot_TPR/DimConst/KNN/plot_over4_oq70_dim2_KNN_tpr.png (deflated 8%)\n",
            "  adding: content/Plot_TPR/DimConst/KNN/plot_over4_oq70_dim80_KNN_tpr.png (deflated 8%)\n",
            "  adding: content/Plot_TPR/DimConst/KNN/plot_over4_oq70_dim10_KNN_tpr.png (deflated 10%)\n",
            "  adding: content/Plot_TPR/DimConst/KNN/plot_over4_oq70_dim40_KNN_tpr.png (deflated 7%)\n",
            "  adding: content/Plot_TPR/DimConst/KNN/plot_over4_oq70_dim20_KNN_tpr.png (deflated 9%)\n",
            "  adding: content/Plot_TPR/DimConst/LOF/ (stored 0%)\n",
            "  adding: content/Plot_TPR/DimConst/LOF/plot_over4_oq70_dim10_LOF_tpr.png (deflated 17%)\n",
            "  adding: content/Plot_TPR/DimConst/LOF/plot_over4_oq70_dim80_LOF_tpr.png (deflated 12%)\n",
            "  adding: content/Plot_TPR/DimConst/LOF/plot_over4_oq70_dim100_LOF_tpr.png (deflated 14%)\n",
            "  adding: content/Plot_TPR/DimConst/LOF/plot_over4_oq70_dim2_noise40_LOF_noise_tpr.png (deflated 12%)\n",
            "  adding: content/Plot_TPR/DimConst/LOF/plot_over4_oq70_dim2_noise30_LOF_noise_tpr.png (deflated 12%)\n",
            "  adding: content/Plot_TPR/DimConst/LOF/plot_over4_oq70_dim20_LOF_tpr.png (deflated 14%)\n",
            "  adding: content/Plot_TPR/DimConst/LOF/plot_over4_oq70_dim2_noise20_LOF_noise_tpr.png (deflated 11%)\n",
            "  adding: content/Plot_TPR/DimConst/LOF/plot_over4_oq70_dim40_LOF_tpr.png (deflated 17%)\n",
            "  adding: content/Plot_TPR/DimConst/LOF/plot_over4_oq70_dim2_noise50_LOF_noise_tpr.png (deflated 10%)\n",
            "  adding: content/Plot_TPR/DimConst/LOF/plot_over4_oq70_dim2_LOF_tpr.png (deflated 10%)\n",
            "  adding: content/Plot_TPR/NoiseConst/ (stored 0%)\n",
            "  adding: content/Plot_TPR/NoiseConst/LOF_noise/ (stored 0%)\n",
            "  adding: content/Plot_TPR/NoiseConst/KNN_noise/ (stored 0%)\n",
            "  adding: content/Plot_TPR/NoiseConst/KNN_noise/plot_over4_oq70_dim2_noise50_KNN_noise_tpr.png (deflated 8%)\n",
            "  adding: content/Plot_TPR/NoiseConst/KNN_noise/plot_over4_oq70_dim2_noise40_KNN_noise_tpr.png (deflated 10%)\n",
            "  adding: content/Plot_TPR/NoiseConst/KNN_noise/plot_over4_oq70_dim2_noise20_KNN_noise_tpr.png (deflated 10%)\n",
            "  adding: content/Plot_TPR/NoiseConst/KNN_noise/plot_over4_oq70_dim2_noise30_KNN_noise_tpr.png (deflated 9%)\n"
          ]
        }
      ]
    },
    {
      "cell_type": "code",
      "source": [
        "!rm -rf /content/Plot_TPR/"
      ],
      "metadata": {
        "id": "rQD2YrtD5qCf"
      },
      "execution_count": 69,
      "outputs": []
    },
    {
      "cell_type": "code",
      "source": [
        ""
      ],
      "metadata": {
        "id": "OjP2qxG2QsOx"
      },
      "execution_count": null,
      "outputs": []
    }
  ]
}